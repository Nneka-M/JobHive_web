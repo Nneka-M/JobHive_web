{
 "cells": [
  {
   "cell_type": "markdown",
   "id": "f58141e8-437d-4428-b4fc-937879e23b29",
   "metadata": {},
   "source": [
    "### 1. Defigning a function to calculate the square of numbers"
   ]
  },
  {
   "cell_type": "code",
   "execution_count": 1,
   "id": "b14861d7-5509-4c9e-b940-47c1b64b5e01",
   "metadata": {},
   "outputs": [
    {
     "name": "stdout",
     "output_type": "stream",
     "text": [
      "16\n"
     ]
    },
    {
     "ename": "NameError",
     "evalue": "name 'result' is not defined",
     "output_type": "error",
     "traceback": [
      "\u001b[1;31m---------------------------------------\u001b[0m",
      "\u001b[1;31mNameError\u001b[0mTraceback (most recent call last)",
      "Cell \u001b[1;32mIn[1], line 6\u001b[0m\n\u001b[0;32m      3\u001b[0m     \u001b[38;5;28mprint\u001b[39m(result)\n\u001b[0;32m      5\u001b[0m calculate_square(\u001b[38;5;241m4\u001b[39m)\n\u001b[1;32m----> 6\u001b[0m \u001b[38;5;28mprint\u001b[39m(\u001b[43mresult\u001b[49m)\n",
      "\u001b[1;31mNameError\u001b[0m: name 'result' is not defined"
     ]
    }
   ],
   "source": [
    "def calculate_square(number):\n",
    "    result= number **2\n",
    "    print(result)\n",
    "    \n",
    "calculate_square(4)\n",
    "# print(result)"
   ]
  },
  {
   "cell_type": "markdown",
   "id": "6026192d-7af1-41ee-a027-6d8816373920",
   "metadata": {},
   "source": [
    "### Printing the result variable returned an error because it's a local variable not global"
   ]
  },
  {
   "cell_type": "markdown",
   "id": "cec30c6d-426c-4279-a7d6-43c96fce2f65",
   "metadata": {},
   "source": [
    "### 2. Defigning the increment counter function"
   ]
  },
  {
   "cell_type": "code",
   "execution_count": 2,
   "id": "27692214-30ef-4c73-ac4d-05211e4ab9fa",
   "metadata": {},
   "outputs": [
    {
     "name": "stdout",
     "output_type": "stream",
     "text": [
      "1\n",
      "2\n",
      "3\n",
      "4\n",
      "5\n"
     ]
    }
   ],
   "source": [
    "counter=0\n",
    "def increment_counter():\n",
    "    global counter\n",
    "    counter +=1\n",
    "    return counter\n",
    "increment_counter()\n",
    "print(counter)\n",
    "increment_counter()\n",
    "print(counter)\n",
    "increment_counter()\n",
    "print(counter)\n",
    "increment_counter()\n",
    "print(counter)\n",
    "increment_counter()\n",
    "print(counter)"
   ]
  },
  {
   "cell_type": "markdown",
   "id": "52b7479a-70e7-4dc3-a05d-785eb11c6468",
   "metadata": {},
   "source": [
    "### 3. MOdifying the gobal counter varible using the icrement counter function."
   ]
  },
  {
   "cell_type": "code",
   "execution_count": 4,
   "id": "e9b789e2-4cdc-4bd3-adbd-661e2d02e102",
   "metadata": {},
   "outputs": [
    {
     "name": "stdout",
     "output_type": "stream",
     "text": [
      "5\n",
      "5\n"
     ]
    }
   ],
   "source": [
    "counter=0\n",
    "def increment_counter(increment_value):\n",
    "    global counter\n",
    "    counter+= increment_value\n",
    "    return counter\n",
    "\n",
    "increment_counter(5)\n",
    "print(counter)\n",
    "    "
   ]
  },
  {
   "cell_type": "markdown",
   "id": "9e6216b3-f343-4ea8-ba7b-b7ff43c26b60",
   "metadata": {},
   "source": [
    "### 4. Function to calculate the final price after tax and discount"
   ]
  },
  {
   "cell_type": "code",
   "execution_count": 8,
   "id": "eba1ff4a-9376-4cae-b388-b083ef956d4a",
   "metadata": {},
   "outputs": [
    {
     "data": {
      "text/plain": [
       "919.9999999999999"
      ]
     },
     "execution_count": 8,
     "metadata": {},
     "output_type": "execute_result"
    }
   ],
   "source": [
    "def total_price(price,discount):\n",
    "    tax_rate=0.15\n",
    "    discounted_price= price * ((1 - (discount/100))) \n",
    "    final_price= discounted_price * (1+ tax_rate)\n",
    "    return final_price\n",
    "\n",
    "total_price(price=1000, discount=20)"
   ]
  },
  {
   "cell_type": "code",
   "execution_count": null,
   "id": "be81af15-63d9-4461-85bf-947fe06d5648",
   "metadata": {},
   "outputs": [],
   "source": []
  },
  {
   "cell_type": "code",
   "execution_count": null,
   "id": "3572c6b0-57a6-4880-9913-bf5c69d3fc8b",
   "metadata": {},
   "outputs": [],
   "source": []
  }
 ],
 "metadata": {
  "kernelspec": {
   "display_name": "Python 3 (ipykernel)",
   "language": "python",
   "name": "python3"
  },
  "language_info": {
   "codemirror_mode": {
    "name": "ipython",
    "version": 3
   },
   "file_extension": ".py",
   "mimetype": "text/x-python",
   "name": "python",
   "nbconvert_exporter": "python",
   "pygments_lexer": "ipython3",
   "version": "3.12.5"
  }
 },
 "nbformat": 4,
 "nbformat_minor": 5
}
